{
 "cells": [
  {
   "cell_type": "code",
   "execution_count": 12,
   "id": "5eae20b4",
   "metadata": {},
   "outputs": [],
   "source": [
    "import googlemaps\n",
    "import requests"
   ]
  },
  {
   "cell_type": "code",
   "execution_count": 5,
   "id": "43fd7d8f",
   "metadata": {},
   "outputs": [
    {
     "data": {
      "text/plain": [
       "True"
      ]
     },
     "execution_count": 5,
     "metadata": {},
     "output_type": "execute_result"
    }
   ],
   "source": [
    "import os\n",
    "from dotenv import load_dotenv\n",
    "load_dotenv()"
   ]
  },
  {
   "cell_type": "code",
   "execution_count": 6,
   "id": "507184b1",
   "metadata": {},
   "outputs": [],
   "source": [
    "key = open(\"../gcloud-API.txt\").readlines()[0].rstrip()"
   ]
  },
  {
   "cell_type": "code",
   "execution_count": 7,
   "id": "bcfdcb58",
   "metadata": {
    "scrolled": true
   },
   "outputs": [],
   "source": [
    "gmaps = googlemaps.Client(key=key)"
   ]
  },
  {
   "cell_type": "markdown",
   "id": "ed9528fd",
   "metadata": {},
   "source": [
    "### Testing google maps API with reverse geocode:"
   ]
  },
  {
   "cell_type": "code",
   "execution_count": 8,
   "id": "015f1421",
   "metadata": {},
   "outputs": [],
   "source": [
    "reverse_geocode_result = gmaps.reverse_geocode((40.43634900076329, -3.5988773062983785))"
   ]
  },
  {
   "cell_type": "code",
   "execution_count": 11,
   "id": "34303912",
   "metadata": {},
   "outputs": [
    {
     "data": {
      "text/plain": [
       "[{'address_components': [{'long_name': '4',\n",
       "    'short_name': '4',\n",
       "    'types': ['street_number']},\n",
       "   {'long_name': 'Avenida de Luis Aragonés',\n",
       "    'short_name': 'Av. de Luis Aragonés',\n",
       "    'types': ['route']},\n",
       "   {'long_name': 'Madrid',\n",
       "    'short_name': 'Madrid',\n",
       "    'types': ['locality', 'political']},\n",
       "   {'long_name': 'Madrid',\n",
       "    'short_name': 'M',\n",
       "    'types': ['administrative_area_level_2', 'political']},\n",
       "   {'long_name': 'Comunidad de Madrid',\n",
       "    'short_name': 'MD',\n",
       "    'types': ['administrative_area_level_1', 'political']},\n",
       "   {'long_name': 'Spain',\n",
       "    'short_name': 'ES',\n",
       "    'types': ['country', 'political']},\n",
       "   {'long_name': '28022', 'short_name': '28022', 'types': ['postal_code']}],\n",
       "  'formatted_address': 'Av. de Luis Aragonés, 4, 28022 Madrid, Spain',\n",
       "  'geometry': {'bounds': {'northeast': {'lat': 40.437442, 'lng': -3.5981397},\n",
       "    'southwest': {'lat': 40.4350914, 'lng': -3.6008505}},\n",
       "   'location': {'lat': 40.4361469, 'lng': -3.6005712},\n",
       "   'location_type': 'ROOFTOP',\n",
       "   'viewport': {'northeast': {'lat': 40.43761568029149, 'lng': -3.5981397},\n",
       "    'southwest': {'lat': 40.43491771970849, 'lng': -3.6008505}}},\n",
       "  'place_id': 'ChIJa2_Fo-ovQg0Rsyu6YYbhsYY',\n",
       "  'types': ['premise']},\n",
       " {'address_components': [{'long_name': 'Unnamed Road',\n",
       "    'short_name': 'Unnamed Road',\n",
       "    'types': ['route']},\n",
       "   {'long_name': 'Madrid',\n",
       "    'short_name': 'Madrid',\n",
       "    'types': ['locality', 'political']},\n",
       "   {'long_name': 'Madrid',\n",
       "    'short_name': 'M',\n",
       "    'types': ['administrative_area_level_2', 'political']},\n",
       "   {'long_name': 'Comunidad de Madrid',\n",
       "    'short_name': 'MD',\n",
       "    'types': ['administrative_area_level_1', 'political']},\n",
       "   {'long_name': 'Spain',\n",
       "    'short_name': 'ES',\n",
       "    'types': ['country', 'political']},\n",
       "   {'long_name': '28022', 'short_name': '28022', 'types': ['postal_code']}],\n",
       "  'formatted_address': 'Unnamed Road, 28022 Madrid, Spain',\n",
       "  'geometry': {'bounds': {'northeast': {'lat': 40.4347261, 'lng': -3.5984609},\n",
       "    'southwest': {'lat': 40.43469839999999, 'lng': -3.5986509}},\n",
       "   'location': {'lat': 40.4347123, 'lng': -3.5985559},\n",
       "   'location_type': 'GEOMETRIC_CENTER',\n",
       "   'viewport': {'northeast': {'lat': 40.4360612302915,\n",
       "     'lng': -3.597206919708498},\n",
       "    'southwest': {'lat': 40.4333632697085, 'lng': -3.599904880291503}}},\n",
       "  'place_id': 'ChIJifvqWeovQg0R_gaw7kc9dBg',\n",
       "  'types': ['route']},\n",
       " {'address_components': [{'long_name': 'Rosas',\n",
       "    'short_name': 'Rosas',\n",
       "    'types': ['neighborhood', 'political']},\n",
       "   {'long_name': 'Madrid',\n",
       "    'short_name': 'Madrid',\n",
       "    'types': ['locality', 'political']},\n",
       "   {'long_name': 'Madrid',\n",
       "    'short_name': 'M',\n",
       "    'types': ['administrative_area_level_2', 'political']},\n",
       "   {'long_name': 'Comunidad de Madrid',\n",
       "    'short_name': 'MD',\n",
       "    'types': ['administrative_area_level_1', 'political']},\n",
       "   {'long_name': 'Spain',\n",
       "    'short_name': 'ES',\n",
       "    'types': ['country', 'political']}],\n",
       "  'formatted_address': 'Rosas, Madrid, Spain',\n",
       "  'geometry': {'bounds': {'northeast': {'lat': 40.449909, 'lng': -3.563291},\n",
       "    'southwest': {'lat': 40.40844, 'lng': -3.6121658}},\n",
       "   'location': {'lat': 40.428817, 'lng': -3.6053791},\n",
       "   'location_type': 'APPROXIMATE',\n",
       "   'viewport': {'northeast': {'lat': 40.449909, 'lng': -3.563291},\n",
       "    'southwest': {'lat': 40.40844, 'lng': -3.6121658}}},\n",
       "  'place_id': 'ChIJpW9x9eQvQg0RUvBBbT67pP0',\n",
       "  'types': ['neighborhood', 'political']},\n",
       " {'address_components': [{'long_name': '28022',\n",
       "    'short_name': '28022',\n",
       "    'types': ['postal_code']},\n",
       "   {'long_name': 'Madrid',\n",
       "    'short_name': 'Madrid',\n",
       "    'types': ['locality', 'political']},\n",
       "   {'long_name': 'Madrid',\n",
       "    'short_name': 'M',\n",
       "    'types': ['administrative_area_level_2', 'political']},\n",
       "   {'long_name': 'Community of Madrid',\n",
       "    'short_name': 'MD',\n",
       "    'types': ['administrative_area_level_1', 'political']},\n",
       "   {'long_name': 'Spain',\n",
       "    'short_name': 'ES',\n",
       "    'types': ['country', 'political']}],\n",
       "  'formatted_address': '28022 Madrid, Spain',\n",
       "  'geometry': {'bounds': {'northeast': {'lat': 40.4501421, 'lng': -3.5311481},\n",
       "    'southwest': {'lat': 40.4179775, 'lng': -3.6261127}},\n",
       "   'location': {'lat': 40.4419938, 'lng': -3.5863313},\n",
       "   'location_type': 'APPROXIMATE',\n",
       "   'viewport': {'northeast': {'lat': 40.4501421, 'lng': -3.5311481},\n",
       "    'southwest': {'lat': 40.4179775, 'lng': -3.6261127}}},\n",
       "  'place_id': 'ChIJm9Pp3B4wQg0RMK-LM_dAAxw',\n",
       "  'types': ['postal_code']},\n",
       " {'address_components': [{'long_name': 'San Blas',\n",
       "    'short_name': 'San Blas',\n",
       "    'types': ['political', 'sublocality', 'sublocality_level_1']},\n",
       "   {'long_name': 'Madrid',\n",
       "    'short_name': 'Madrid',\n",
       "    'types': ['locality', 'political']},\n",
       "   {'long_name': 'Madrid',\n",
       "    'short_name': 'M',\n",
       "    'types': ['administrative_area_level_2', 'political']},\n",
       "   {'long_name': 'Community of Madrid',\n",
       "    'short_name': 'MD',\n",
       "    'types': ['administrative_area_level_1', 'political']},\n",
       "   {'long_name': 'Spain',\n",
       "    'short_name': 'ES',\n",
       "    'types': ['country', 'political']}],\n",
       "  'formatted_address': 'San Blas, Madrid, Spain',\n",
       "  'geometry': {'bounds': {'northeast': {'lat': 40.4501519, 'lng': -3.5310589},\n",
       "    'southwest': {'lat': 40.40844, 'lng': -3.6479672}},\n",
       "   'location': {'lat': 40.4321838, 'lng': -3.6278804},\n",
       "   'location_type': 'APPROXIMATE',\n",
       "   'viewport': {'northeast': {'lat': 40.4501519, 'lng': -3.5310589},\n",
       "    'southwest': {'lat': 40.40844, 'lng': -3.6479672}}},\n",
       "  'place_id': 'ChIJc1fXp-UvQg0Ry5iP2iM6a_k',\n",
       "  'types': ['political', 'sublocality', 'sublocality_level_1']},\n",
       " {'address_components': [{'long_name': 'Madrid',\n",
       "    'short_name': 'Madrid',\n",
       "    'types': ['locality', 'political']},\n",
       "   {'long_name': 'Madrid',\n",
       "    'short_name': 'M',\n",
       "    'types': ['administrative_area_level_2', 'political']},\n",
       "   {'long_name': 'Community of Madrid',\n",
       "    'short_name': 'MD',\n",
       "    'types': ['administrative_area_level_1', 'political']},\n",
       "   {'long_name': 'Spain',\n",
       "    'short_name': 'ES',\n",
       "    'types': ['country', 'political']}],\n",
       "  'formatted_address': 'Madrid, Spain',\n",
       "  'geometry': {'bounds': {'northeast': {'lat': 40.5638447, 'lng': -3.5249115},\n",
       "    'southwest': {'lat': 40.3120639, 'lng': -3.8341618}},\n",
       "   'location': {'lat': 40.4167754, 'lng': -3.7037902},\n",
       "   'location_type': 'APPROXIMATE',\n",
       "   'viewport': {'northeast': {'lat': 40.5638447, 'lng': -3.5249115},\n",
       "    'southwest': {'lat': 40.3120639, 'lng': -3.8341618}}},\n",
       "  'place_id': 'ChIJgTwKgJcpQg0RaSKMYcHeNsQ',\n",
       "  'types': ['locality', 'political']},\n",
       " {'address_components': [{'long_name': 'Municipality of Madrid',\n",
       "    'short_name': 'Municipality of Madrid',\n",
       "    'types': ['administrative_area_level_4', 'political']},\n",
       "   {'long_name': 'Madrid',\n",
       "    'short_name': 'M',\n",
       "    'types': ['administrative_area_level_2', 'political']},\n",
       "   {'long_name': 'Community of Madrid',\n",
       "    'short_name': 'MD',\n",
       "    'types': ['administrative_area_level_1', 'political']},\n",
       "   {'long_name': 'Spain',\n",
       "    'short_name': 'ES',\n",
       "    'types': ['country', 'political']}],\n",
       "  'formatted_address': 'Municipality of Madrid, Madrid, Spain',\n",
       "  'geometry': {'bounds': {'northeast': {'lat': 40.64333269999999,\n",
       "     'lng': -3.5182349},\n",
       "    'southwest': {'lat': 40.3120639, 'lng': -3.8889567}},\n",
       "   'location': {'lat': 40.4157569, 'lng': -3.703721499999999},\n",
       "   'location_type': 'APPROXIMATE',\n",
       "   'viewport': {'northeast': {'lat': 40.64333269999999, 'lng': -3.5182349},\n",
       "    'southwest': {'lat': 40.3120639, 'lng': -3.8889567}}},\n",
       "  'place_id': 'ChIJyWY3OH0oQg0RfZlQ7cCcRq0',\n",
       "  'types': ['administrative_area_level_4', 'political']},\n",
       " {'address_components': [{'long_name': 'Área Metropolitalitana y Corredor del Henares',\n",
       "    'short_name': 'Área Metropolitalitana y Corredor del Henares',\n",
       "    'types': ['administrative_area_level_3', 'political']},\n",
       "   {'long_name': 'Madrid',\n",
       "    'short_name': 'M',\n",
       "    'types': ['administrative_area_level_2', 'political']},\n",
       "   {'long_name': 'Comunidad de Madrid',\n",
       "    'short_name': 'MD',\n",
       "    'types': ['administrative_area_level_1', 'political']},\n",
       "   {'long_name': 'Spain',\n",
       "    'short_name': 'ES',\n",
       "    'types': ['country', 'political']}],\n",
       "  'formatted_address': 'Área Metropolitalitana y Corredor del Henares, Madrid, Spain',\n",
       "  'geometry': {'bounds': {'northeast': {'lat': 40.6453875, 'lng': -3.2838978},\n",
       "    'southwest': {'lat': 40.1989269, 'lng': -4.006454}},\n",
       "   'location': {'lat': 40.4955493, 'lng': -3.6623239},\n",
       "   'location_type': 'APPROXIMATE',\n",
       "   'viewport': {'northeast': {'lat': 40.6453875, 'lng': -3.2838978},\n",
       "    'southwest': {'lat': 40.1989269, 'lng': -4.006454}}},\n",
       "  'place_id': 'ChIJgXVwV1wvQg0RzPz8wabKb2k',\n",
       "  'types': ['administrative_area_level_3', 'political']},\n",
       " {'address_components': [{'long_name': 'Community of Madrid',\n",
       "    'short_name': 'MD',\n",
       "    'types': ['administrative_area_level_1', 'political']},\n",
       "   {'long_name': 'Madrid',\n",
       "    'short_name': 'M',\n",
       "    'types': ['administrative_area_level_2', 'political']},\n",
       "   {'long_name': 'Spain',\n",
       "    'short_name': 'ES',\n",
       "    'types': ['country', 'political']}],\n",
       "  'formatted_address': 'Community of Madrid, Madrid, Spain',\n",
       "  'geometry': {'bounds': {'northeast': {'lat': 41.16584470000001,\n",
       "     'lng': -3.0529833},\n",
       "    'southwest': {'lat': 39.8847195, 'lng': -4.579076}},\n",
       "   'location': {'lat': 40.4167515, 'lng': -3.7038322},\n",
       "   'location_type': 'APPROXIMATE',\n",
       "   'viewport': {'northeast': {'lat': 41.16584470000001, 'lng': -3.0529833},\n",
       "    'southwest': {'lat': 39.8847195, 'lng': -4.579076}}},\n",
       "  'place_id': 'ChIJuTPgQHqBQQ0RgMhLvvNAAwE',\n",
       "  'types': ['administrative_area_level_1', 'political']},\n",
       " {'address_components': [{'long_name': 'Madrid',\n",
       "    'short_name': 'M',\n",
       "    'types': ['administrative_area_level_2', 'political']},\n",
       "   {'long_name': 'Community of Madrid',\n",
       "    'short_name': 'MD',\n",
       "    'types': ['administrative_area_level_1', 'political']},\n",
       "   {'long_name': 'Spain',\n",
       "    'short_name': 'ES',\n",
       "    'types': ['country', 'political']}],\n",
       "  'formatted_address': 'Madrid, Spain',\n",
       "  'geometry': {'bounds': {'northeast': {'lat': 41.16584470000001,\n",
       "     'lng': -3.0529833},\n",
       "    'southwest': {'lat': 39.8847195, 'lng': -4.579076}},\n",
       "   'location': {'lat': 40.4162883, 'lng': -3.7033725},\n",
       "   'location_type': 'APPROXIMATE',\n",
       "   'viewport': {'northeast': {'lat': 41.16584470000001, 'lng': -3.0529833},\n",
       "    'southwest': {'lat': 39.8847195, 'lng': -4.579076}}},\n",
       "  'place_id': 'ChIJuTPgQHqBQQ0R8MpLvvNAAwM',\n",
       "  'types': ['administrative_area_level_2', 'political']},\n",
       " {'address_components': [{'long_name': 'Spain',\n",
       "    'short_name': 'ES',\n",
       "    'types': ['country', 'political']}],\n",
       "  'formatted_address': 'Spain',\n",
       "  'geometry': {'bounds': {'northeast': {'lat': 43.8504, 'lng': 4.6362},\n",
       "    'southwest': {'lat': 27.4985, 'lng': -18.2648001}},\n",
       "   'location': {'lat': 40.46366700000001, 'lng': -3.74922},\n",
       "   'location_type': 'APPROXIMATE',\n",
       "   'viewport': {'northeast': {'lat': 43.8504, 'lng': 4.6362},\n",
       "    'southwest': {'lat': 27.4985, 'lng': -18.2648001}}},\n",
       "  'place_id': 'ChIJi7xhMnjjQgwR7KNoB5Qs7KY',\n",
       "  'types': ['country', 'political']},\n",
       " {'address_components': [{'long_name': 'CCP2+GC',\n",
       "    'short_name': 'CCP2+GC',\n",
       "    'types': ['plus_code']},\n",
       "   {'long_name': 'Madrid',\n",
       "    'short_name': 'Madrid',\n",
       "    'types': ['locality', 'political']},\n",
       "   {'long_name': 'Madrid',\n",
       "    'short_name': 'M',\n",
       "    'types': ['administrative_area_level_2', 'political']},\n",
       "   {'long_name': 'Community of Madrid',\n",
       "    'short_name': 'MD',\n",
       "    'types': ['administrative_area_level_1', 'political']},\n",
       "   {'long_name': 'Spain',\n",
       "    'short_name': 'ES',\n",
       "    'types': ['country', 'political']}],\n",
       "  'formatted_address': 'CCP2+GC Madrid, Spain',\n",
       "  'geometry': {'bounds': {'northeast': {'lat': 40.43637500000001,\n",
       "     'lng': -3.598875},\n",
       "    'southwest': {'lat': 40.43625, 'lng': -3.599}},\n",
       "   'location': {'lat': 40.436349, 'lng': -3.5988773},\n",
       "   'location_type': 'ROOFTOP',\n",
       "   'viewport': {'northeast': {'lat': 40.4376614802915,\n",
       "     'lng': -3.597588519708498},\n",
       "    'southwest': {'lat': 40.4349635197085, 'lng': -3.600286480291502}}},\n",
       "  'place_id': 'GhIJN1K2SNo3REARxIiOLoDKDMA',\n",
       "  'plus_code': {'compound_code': 'CCP2+GC Madrid, Spain',\n",
       "   'global_code': '8CGRCCP2+GC'},\n",
       "  'types': ['plus_code']}]"
      ]
     },
     "execution_count": 11,
     "metadata": {},
     "output_type": "execute_result"
    }
   ],
   "source": [
    "reverse_geocode_result"
   ]
  },
  {
   "cell_type": "code",
   "execution_count": 181,
   "id": "e958e7a2",
   "metadata": {},
   "outputs": [],
   "source": [
    "gm_key = os.getenv(\"token\")\n",
    "\n",
    "def get_places(lat, lon, radius, keyword = \"\", type_ = \"\"):\n",
    "    \"\"\"\n",
    "    FUTURE EXPLAINING\n",
    "    \"\"\"\n",
    "    \n",
    "    url_nearby_search = \"https://maps.googleapis.com/maps/api/place/nearbysearch/json\"\n",
    "    loc = str(lat) + \",\" + str(lon)\n",
    "    \n",
    "    parameters = {\"key\": gm_key, \"location\": loc, \"radius\": radius, \"keyword\": keyword, \"type\": type_}\n",
    "    \n",
    "    response = requests.get(\n",
    "    url=url_nearby_search, \n",
    "    params = parameters\n",
    "    )\n",
    "    \n",
    "    restaurants_data = response.json()\n",
    "    \n",
    "    return restaurants_data"
   ]
  },
  {
   "cell_type": "markdown",
   "id": "c50ea5e7",
   "metadata": {},
   "source": [
    "### Looking some places near the Wanda:"
   ]
  },
  {
   "cell_type": "code",
   "execution_count": 62,
   "id": "c6c71df3",
   "metadata": {},
   "outputs": [],
   "source": [
    "url_place_search = \"https://maps.googleapis.com/maps/api/place/findplacefromtext/json\"\n",
    "url_nearby_search = \"https://maps.googleapis.com/maps/api/place/nearbysearch/json\""
   ]
  },
  {
   "cell_type": "code",
   "execution_count": 95,
   "id": "17f28868",
   "metadata": {},
   "outputs": [],
   "source": [
    "loc = \"40.43634900076329,-3.5988773062983785\"\n",
    "radius = 1000\n",
    "keyword = \"goiko\""
   ]
  },
  {
   "cell_type": "code",
   "execution_count": 96,
   "id": "49317988",
   "metadata": {},
   "outputs": [],
   "source": [
    "parameters = {\"key\": key, \"location\": loc , \"radius\": radius, \"keyword\": keyword}"
   ]
  },
  {
   "cell_type": "code",
   "execution_count": 81,
   "id": "2124f2c6",
   "metadata": {},
   "outputs": [],
   "source": [
    "response = requests.get(\n",
    "    url=url_nearby_search, \n",
    "    params = parameters\n",
    ")"
   ]
  },
  {
   "cell_type": "code",
   "execution_count": 92,
   "id": "8de1d889",
   "metadata": {},
   "outputs": [],
   "source": [
    "data = response.json()"
   ]
  },
  {
   "cell_type": "code",
   "execution_count": 93,
   "id": "fb88abbe",
   "metadata": {},
   "outputs": [
    {
     "data": {
      "text/plain": [
       "dict_keys(['html_attributions', 'next_page_token', 'results', 'status'])"
      ]
     },
     "execution_count": 93,
     "metadata": {},
     "output_type": "execute_result"
    }
   ],
   "source": [
    "data.keys()"
   ]
  },
  {
   "cell_type": "code",
   "execution_count": 94,
   "id": "03a8278e",
   "metadata": {},
   "outputs": [
    {
     "data": {
      "text/plain": [
       "20"
      ]
     },
     "execution_count": 94,
     "metadata": {},
     "output_type": "execute_result"
    }
   ],
   "source": [
    "len(data[\"results\"])"
   ]
  },
  {
   "cell_type": "code",
   "execution_count": 155,
   "id": "f2647ad7",
   "metadata": {},
   "outputs": [
    {
     "data": {
      "text/plain": [
       "'Autos Algete, S.C., Car hire with driver'"
      ]
     },
     "execution_count": 155,
     "metadata": {},
     "output_type": "execute_result"
    }
   ],
   "source": [
    "data[\"results\"][5][\"name\"]\n",
    "\n",
    "#DONE"
   ]
  },
  {
   "cell_type": "markdown",
   "id": "68b0e936",
   "metadata": {},
   "source": [
    "### Keyword/name test:"
   ]
  },
  {
   "cell_type": "code",
   "execution_count": 128,
   "id": "a2fe9c35",
   "metadata": {},
   "outputs": [],
   "source": [
    "parameters = {\"key\": key, \"location\": loc , \"radius\": radius, \"keyword\": keyword}"
   ]
  },
  {
   "cell_type": "code",
   "execution_count": 129,
   "id": "8fdb9cd1",
   "metadata": {},
   "outputs": [],
   "source": [
    "# Now seaching for Goiko restaurant near Wanda Metropolitano:\n",
    "\n",
    "response_goiko = requests.get(\n",
    "    url=url_nearby_search, \n",
    "    params = parameters\n",
    ")"
   ]
  },
  {
   "cell_type": "code",
   "execution_count": 130,
   "id": "96c7d0c9",
   "metadata": {},
   "outputs": [],
   "source": [
    "data_goiko = response_goiko.json()"
   ]
  },
  {
   "cell_type": "code",
   "execution_count": 134,
   "id": "38484f2d",
   "metadata": {},
   "outputs": [
    {
     "data": {
      "text/plain": [
       "1"
      ]
     },
     "execution_count": 134,
     "metadata": {},
     "output_type": "execute_result"
    }
   ],
   "source": [
    "len(data_goiko[\"results\"])"
   ]
  },
  {
   "cell_type": "code",
   "execution_count": 133,
   "id": "95ed6f90",
   "metadata": {},
   "outputs": [
    {
     "data": {
      "text/plain": [
       "'Goiko'"
      ]
     },
     "execution_count": 133,
     "metadata": {},
     "output_type": "execute_result"
    }
   ],
   "source": [
    "data_goiko[\"results\"][0][\"name\"]"
   ]
  },
  {
   "cell_type": "markdown",
   "id": "66eba0f3",
   "metadata": {},
   "source": [
    "### Type test:"
   ]
  },
  {
   "cell_type": "code",
   "execution_count": 135,
   "id": "d473ec47",
   "metadata": {},
   "outputs": [],
   "source": [
    "tipo = \"restaurant\""
   ]
  },
  {
   "cell_type": "code",
   "execution_count": 136,
   "id": "514ce1db",
   "metadata": {},
   "outputs": [],
   "source": [
    "parameters = {\"key\": key, \"location\": loc , \"radius\": radius, \"type\": tipo}"
   ]
  },
  {
   "cell_type": "code",
   "execution_count": 137,
   "id": "48f4aae4",
   "metadata": {},
   "outputs": [],
   "source": [
    "response_tipo = requests.get(\n",
    "    url=url_nearby_search, \n",
    "    params = parameters\n",
    ")"
   ]
  },
  {
   "cell_type": "code",
   "execution_count": 138,
   "id": "a1c2de34",
   "metadata": {},
   "outputs": [],
   "source": [
    "data_tipo = response_tipo.json()"
   ]
  },
  {
   "cell_type": "code",
   "execution_count": 139,
   "id": "779585a4",
   "metadata": {},
   "outputs": [
    {
     "data": {
      "text/plain": [
       "20"
      ]
     },
     "execution_count": 139,
     "metadata": {},
     "output_type": "execute_result"
    }
   ],
   "source": [
    "len(data_tipo[\"results\"])"
   ]
  },
  {
   "cell_type": "code",
   "execution_count": 148,
   "id": "4c4148b2",
   "metadata": {},
   "outputs": [
    {
     "data": {
      "text/plain": [
       "'El Gran Escenario'"
      ]
     },
     "execution_count": 148,
     "metadata": {},
     "output_type": "execute_result"
    }
   ],
   "source": [
    "data_tipo[\"results\"][5][\"name\"]"
   ]
  },
  {
   "cell_type": "markdown",
   "id": "a36535a6",
   "metadata": {},
   "source": [
    "### Testing that function:"
   ]
  },
  {
   "cell_type": "code",
   "execution_count": 182,
   "id": "940bfdb9",
   "metadata": {},
   "outputs": [],
   "source": [
    "rests_data = get_restaurants(\"40.43634900076329\",\"-3.5988773062983785\", 1000, keyword = \"dog\", type_ = \"pet_store\")"
   ]
  },
  {
   "cell_type": "code",
   "execution_count": 186,
   "id": "b7e3cdd6",
   "metadata": {},
   "outputs": [
    {
     "data": {
      "text/plain": [
       "'Kiwoko'"
      ]
     },
     "execution_count": 186,
     "metadata": {},
     "output_type": "execute_result"
    }
   ],
   "source": [
    "rests_data[\"results\"][0][\"name\"]"
   ]
  }
 ],
 "metadata": {
  "kernelspec": {
   "display_name": "ironhack",
   "language": "python",
   "name": "ironhack"
  },
  "language_info": {
   "codemirror_mode": {
    "name": "ipython",
    "version": 3
   },
   "file_extension": ".py",
   "mimetype": "text/x-python",
   "name": "python",
   "nbconvert_exporter": "python",
   "pygments_lexer": "ipython3",
   "version": "3.8.5"
  }
 },
 "nbformat": 4,
 "nbformat_minor": 5
}
